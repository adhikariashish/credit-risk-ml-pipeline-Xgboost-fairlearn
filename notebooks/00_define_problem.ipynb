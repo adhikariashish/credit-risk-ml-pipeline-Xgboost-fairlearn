{
 "cells": [
  {
   "cell_type": "markdown",
   "id": "c323443c",
   "metadata": {},
   "source": [
    "## Credit-risk-ml-pipeline-fairlearn\n",
    "\n",
    "### Short Problem Statement\n",
    "Predict whether a bank customer will default on their credit (“good” vs. “bad” risk) so that the institution can proactively manage portfolios, limit losses, and extend fair lending practices.\n",
    "<br>\n",
    "\n",
    "### Dataset source and description\n",
    "Name: Freddie Mac Single-Family Loan Performance (e.g. Q4 2024)\n",
    "\n",
    "Source: https://datadynamics.fanniemae.com/data-dynamics/#/downloadLoanData/Single-Family\n",
    "\n",
    "Contents: ~8 million mortgage records; 110 fields covering balances, rates, loan status, etc.\n",
    "\n",
    "<br>\n",
    "\n",
    "### Target Variable \n",
    "=> We derive a binary flag called default_flag by threshold as\n",
    "    df[\"default_flag\"] = (df[\"current_loan_delinquency_status\"] > 0).astype(int)\n",
    "\n",
    "    as such \n",
    "        0 -> no delinquency\n",
    "        1 -> 1 + months past due\n",
    "\n",
    "\n",
    "### Choosen Evaluation Metrics\n",
    "1. **Performance**  \n",
    "   => **ROC-AUC**, **Accuracy**, and **Recall** (on the “default” class)  \n",
    "   => Ensure strong discriminative power, with particular focus on catching defaults.\n",
    "\n",
    "2. **Fairness**\t                \n",
    "=> **Demographic Parity Difference** (across `property_state` groups)  \n",
    "=> **Equalized Odds Difference** (across `property_state` groups)  \n",
    "=> Quantify disparities in positive-prediction rates and error rates between states. \n",
    "\n"
   ]
  }
 ],
 "metadata": {
  "language_info": {
   "name": "python"
  }
 },
 "nbformat": 4,
 "nbformat_minor": 5
}
